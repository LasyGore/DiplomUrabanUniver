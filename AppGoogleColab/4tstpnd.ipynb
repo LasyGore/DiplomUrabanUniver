{
  "nbformat": 4,
  "nbformat_minor": 0,
  "metadata": {
    "colab": {
      "provenance": []
    },
    "kernelspec": {
      "name": "python3",
      "display_name": "Python 3"
    },
    "language_info": {
      "name": "python"
    }
  },
  "cells": [
    {
      "cell_type": "code",
      "execution_count": null,
      "metadata": {
        "id": "jIBEva6M_CHx"
      },
      "outputs": [],
      "source": []
    },
    {
      "cell_type": "code",
      "source": [
        "import pandas as pd\n",
        "import numpy as np\n",
        "import time\n",
        "\n",
        "# Запись времени начала выполнения\n",
        "start_time = time.time()\n",
        "\n",
        "# Загрузка данных с указанием разделителя\n",
        "data = pd.read_csv('data.csv', delimiter=';')\n",
        "\n",
        "# Обработка данных\n",
        "result = data.groupby('column').agg({'value': 'sum'})  # Используем правильные названия колонок\n",
        "\n",
        "# Время выполнения агрегации\n",
        "agg_time = time.time() - start_time\n",
        "\n",
        "# Транспонирование матрицы\n",
        "matrix = pd.DataFrame(np.random.rand(10000, 10000))\n",
        "transposed_data = matrix.T\n",
        "\n",
        "# Умножение матриц\n",
        "matrix1 = np.random.rand(10000, 10000)\n",
        "matrix2 = np.random.rand(10000, 10000)\n",
        "multiplied_matrix = np.dot(matrix1, matrix2)\n",
        "\n",
        "# Замер времени выполнения\n",
        "total_execution_time = time.time() - start_time\n",
        "time_matrix = total_execution_time - agg_time\n",
        "\n",
        "# Вывод результата на экран\n",
        "print(\"Pandas Result:\")\n",
        "print(result)\n",
        "print(f\"Время на агрегацию и сортировку данных: {agg_time:.6f} sec.\")\n",
        "print(f\"Время на работу с матрицами: {time_matrix:.6f} sec.\")\n",
        "print(f\"Общее время выполнения задач: {total_execution_time:.6f} sec.\")\n",
        "\n",
        "# Запись результатов в файл result.txt\n",
        "with open('result.txt', 'w') as f:\n",
        "    f.write(\"Pandas Result:\\n\")\n",
        "    f.write(result.to_string())\n",
        "    f.write(f\"\\nAgg Time: {agg_time:.6f} seconds\\n\")\n",
        "    f.write(f\"Matrix Time: {time_matrix:.6f} seconds\\n\")\n",
        "    f.write(f\"Total Execution Time: {total_execution_time:.6f} seconds\\n\")"
      ],
      "metadata": {
        "colab": {
          "base_uri": "https://localhost:8080/"
        },
        "id": "EnrEZLnYDMBy",
        "outputId": "aab4fa9b-05a7-4c2d-d01d-f787ba59194f"
      },
      "execution_count": 3,
      "outputs": [
        {
          "output_type": "stream",
          "name": "stdout",
          "text": [
            "Время выполнения операции умножения матриц: 276.2702 секунд\n"
          ]
        }
      ]
    },
    {
      "cell_type": "code",
      "source": [],
      "metadata": {
        "id": "Iy3QHQR0_6ZB"
      },
      "execution_count": null,
      "outputs": []
    }
  ]
}