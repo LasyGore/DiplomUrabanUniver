{
  "nbformat": 4,
  "nbformat_minor": 0,
  "metadata": {
    "colab": {
      "provenance": []
    },
    "kernelspec": {
      "name": "python3",
      "display_name": "Python 3"
    },
    "language_info": {
      "name": "python"
    }
  },
  "cells": [
    {
      "cell_type": "code",
      "execution_count": null,
      "metadata": {
        "id": "jIBEva6M_CHx"
      },
      "outputs": [],
      "source": []
    },
    {
      "cell_type": "code",
      "source": [
        "import dask.dataframe as dd\n",
        "import time\n",
        "import dask.array as da\n",
        "import dask\n",
        "\n",
        "dask.config.set({'array.blockwise-optimize': True})  # Включает оптимизацию\n",
        "\n",
        "# Запись времени начала выполнения\n",
        "start_time = time.time()\n",
        "\n",
        "# Загрузка данных с указанием разделителя\n",
        "dask_data = dd.read_csv('data.csv', delimiter=';', blocksize='64MB')\n",
        "# Проверка столбцов\n",
        "print(dask_data.columns)\n",
        "\n",
        "# Обработка данных\n",
        "result = dask_data.groupby('column').agg({'value': 'sum'}).compute().sort_index()\n",
        "# Время выполнения агрегации\n",
        "agg_time = time.time() - start_time\n",
        "\n",
        "# Транспонирование матрицы\n",
        "dask_matrix = da.random.random((10000, 10000), chunks=(1000, 1000))\n",
        "transposed_data = dask_matrix.T\n",
        "\n",
        "# Умножение матриц\n",
        "matrix1 = da.random.random((10000, 10000), chunks=(1000, 1000))\n",
        "matrix2 = da.random.random((10000, 10000), chunks=(1000, 1000))\n",
        "multiplied_matrix = da.dot(matrix1, matrix2)\n",
        "\n",
        "# Замер времени выполнения\n",
        "total_execution_time = time.time() - start_time\n",
        "tr_time=total_execution_time-agg_time\n",
        "\n",
        "# Вывод результата\n",
        "print(\"Dask Result:\")\n",
        "print(result)\n",
        "print(f\"Agg Time: {agg_time:.6f} seconds\")\n",
        "print(f\"Matr Time: {tr_time:.6f} seconds\")\n",
        "print(f\"Total Execution Time: {total_execution_time:.6f} seconds\")"
      ],
      "metadata": {
        "colab": {
          "base_uri": "https://localhost:8080/"
        },
        "id": "EnrEZLnYDMBy",
        "outputId": "4d49a64c-9208-48e9-e3c5-4938f9fe89b2"
      },
      "execution_count": 5,
      "outputs": [
        {
          "output_type": "stream",
          "name": "stderr",
          "text": [
            "/usr/local/lib/python3.10/dist-packages/dask/dataframe/__init__.py:42: FutureWarning: \n",
            "Dask dataframe query planning is disabled because dask-expr is not installed.\n",
            "\n",
            "You can install it with `pip install dask[dataframe]` or `conda install dask`.\n",
            "This will raise in a future version.\n",
            "\n",
            "  warnings.warn(msg, FutureWarning)\n"
          ]
        },
        {
          "output_type": "stream",
          "name": "stdout",
          "text": [
            "Index(['column', 'value'], dtype='object')\n",
            "Dask Result:\n",
            "           value\n",
            "column          \n",
            "10      60611700\n",
            "11      60553503\n",
            "12      60596085\n",
            "13      60678129\n",
            "14      60582142\n",
            "...          ...\n",
            "95      60560084\n",
            "96      60564514\n",
            "97      60506660\n",
            "98      60530565\n",
            "99      60506282\n",
            "\n",
            "[90 rows x 1 columns]\n",
            "Agg Time: 16.955524 seconds\n",
            "Matr Time: 0.049069 seconds\n",
            "Total Execution Time: 17.004593 seconds\n"
          ]
        },
        {
          "output_type": "stream",
          "name": "stderr",
          "text": [
            "/usr/local/lib/python3.10/dist-packages/dask/array/routines.py:332: PerformanceWarning: Increasing number of chunks by factor of 10\n",
            "  intermediate = blockwise(\n"
          ]
        }
      ]
    },
    {
      "cell_type": "code",
      "source": [],
      "metadata": {
        "id": "Iy3QHQR0_6ZB"
      },
      "execution_count": null,
      "outputs": []
    }
  ]
}