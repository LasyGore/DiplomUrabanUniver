{
  "nbformat": 4,
  "nbformat_minor": 0,
  "metadata": {
    "colab": {
      "provenance": []
    },
    "kernelspec": {
      "name": "python3",
      "display_name": "Python 3"
    },
    "language_info": {
      "name": "python"
    }
  },
  "cells": [
    {
      "cell_type": "code",
      "execution_count": null,
      "metadata": {
        "id": "jIBEva6M_CHx"
      },
      "outputs": [],
      "source": []
    },
    {
      "cell_type": "code",
      "source": [
        "import random\n",
        "import time\n",
        "\n",
        "# Задаем длину списка\n",
        "# Вы можете изменить это значение(скорость примерно сортировки 55000 целых чисел в минуту)\n",
        "length_of_list = 60000\n",
        "start_time = time.time()\n",
        "\n",
        "# Генерируем список псевдослучайных целых чисел\n",
        "random_list = [random.randint(10, 99) for _ in range(length_of_list)]\n",
        "\n",
        "#print(random_list)\n",
        "\n",
        "\n",
        "def select_sort(random_list):\n",
        "    for i in range(len(random_list) - 1):\n",
        "        min_index = i\n",
        "        for k in range(i + 1, len(random_list)):\n",
        "            if random_list[k] < random_list[min_index]:\n",
        "                min_index = k\n",
        "        random_list[i], random_list[min_index] = random_list[min_index], random_list[i]\n",
        "    return random_list\n",
        "\n",
        "\n",
        "b = select_sort(random_list)\n",
        "\n",
        "# print(b)\n",
        "\n",
        "\n",
        "print(\"Расчет окончен! Затрачено:\")\n",
        "sort_time = time.time() - start_time\n",
        "print(int(sort_time))\n",
        "print(\"секунд на:\")\n",
        "print(length_of_list, \" записей.\")\n",
        "print(\"Это Очень Медленно!!!\")"
      ],
      "metadata": {
        "colab": {
          "base_uri": "https://localhost:8080/"
        },
        "id": "Iy3QHQR0_6ZB",
        "outputId": "5f780c97-2d72-4b8e-961b-a631021b7736"
      },
      "execution_count": 1,
      "outputs": [
        {
          "output_type": "stream",
          "name": "stdout",
          "text": [
            "Расчет окончен! Затрачено:\n",
            "170\n",
            "секунд на:\n",
            "60000  записей.\n",
            "Это Очень Медленно!!!\n"
          ]
        }
      ]
    }
  ]
}