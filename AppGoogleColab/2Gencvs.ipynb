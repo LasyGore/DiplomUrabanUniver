{
  "nbformat": 4,
  "nbformat_minor": 0,
  "metadata": {
    "colab": {
      "provenance": []
    },
    "kernelspec": {
      "name": "python3",
      "display_name": "Python 3"
    },
    "language_info": {
      "name": "python"
    }
  },
  "cells": [
    {
      "cell_type": "code",
      "execution_count": null,
      "metadata": {
        "id": "jIBEva6M_CHx"
      },
      "outputs": [],
      "source": []
    },
    {
      "cell_type": "code",
      "source": [
        "import csv\n",
        "import random\n",
        "import time\n",
        "\n",
        "# Начинаем замер времени\n",
        "start_time = time.time()\n",
        "\n",
        "# Запрашиваем количество строк у пользователя\n",
        "num_lines = int(input(\"Введите количество строк для записи в файл: \"))\n",
        "\n",
        "# Создаем или открываем файл data.csv для записи\n",
        "with open('data.csv', mode='w', newline='') as file:\n",
        "    writer = csv.writer(file, delimiter=';')  # Используем ; в качестве разделителя\n",
        "\n",
        "    # Записываем заголовки\n",
        "    writer.writerow(['column', 'value'])\n",
        "\n",
        "    for _ in range(num_lines):\n",
        "        # Генерируем два случайных двухзначных числа\n",
        "        num1 = random.randint(10, 99)\n",
        "        num2 = random.randint(10, 99)\n",
        "\n",
        "        # Записываем числа в файл\n",
        "        writer.writerow([num1, num2])\n",
        "\n",
        "# Заканчиваем замер времени\n",
        "end_time = time.time()\n",
        "execution_time = end_time - start_time\n",
        "\n",
        "print(f\"Успешно записано {num_lines} строк в файл data.csv.\")\n",
        "print(f\"Время выполнения программы: {execution_time:.4f} секунд.\")"
      ],
      "metadata": {
        "colab": {
          "base_uri": "https://localhost:8080/"
        },
        "id": "Iy3QHQR0_6ZB",
        "outputId": "37fa568a-83d2-4358-fe5b-af366e725de2"
      },
      "execution_count": null,
      "outputs": [
        {
          "name": "stdout",
          "output_type": "stream",
          "text": [
            "Введите количество строк для записи в файл: 100000000\n"
          ]
        }
      ]
    }
  ]
}