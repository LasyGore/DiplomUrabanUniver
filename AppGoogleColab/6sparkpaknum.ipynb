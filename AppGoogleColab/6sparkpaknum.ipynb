{
  "nbformat": 4,
  "nbformat_minor": 0,
  "metadata": {
    "colab": {
      "provenance": []
    },
    "kernelspec": {
      "name": "python3",
      "display_name": "Python 3"
    },
    "language_info": {
      "name": "python"
    }
  },
  "cells": [
    {
      "cell_type": "code",
      "execution_count": null,
      "metadata": {
        "id": "jIBEva6M_CHx"
      },
      "outputs": [],
      "source": []
    },
    {
      "cell_type": "code",
      "source": [
        "from pyspark.sql import SparkSession\n",
        "import time\n",
        "import numpy as np\n",
        "\n",
        "# Запись времени начала выполнения\n",
        "start_time = time.time()\n",
        "\n",
        "# Инициализация SparkSession\n",
        "spark = SparkSession.builder.appName(\"SparkApp\").getOrCreate()\n",
        "\n",
        "# Загрузка данных\n",
        "spark_data = spark.read.csv('data.csv', header=True, inferSchema=True)\n",
        "\n",
        "# Обработка данных\n",
        "result = spark_data.groupBy('column').agg({'value': 'sum'}).collect()\n",
        "\n",
        "# Время выполнения агрегации\n",
        "agg_time = time.time() - start_time\n",
        "\n",
        "# Генерация двумерных матриц 10000x10000\n",
        "matrix1 = np.random.rand(10000, 10000)\n",
        "matrix2 = np.random.rand(10000, 10000)\n",
        "\n",
        "# Замер времени выполнения для транспонирования\n",
        "transpose_start_time = time.time()\n",
        "transposed_matrix1 = matrix1.T  # Транспонирование матрицы\n",
        "transpose_time = time.time() - transpose_start_time\n",
        "\n",
        "# Замер времени выполнения для перемножения матриц\n",
        "multiply_start_time = time.time()\n",
        "product_matrix = np.dot(transposed_matrix1, matrix2)  # Перемножение матриц\n",
        "multiply_time = time.time() - multiply_start_time\n",
        "\n",
        "# Общее время выполнения\n",
        "total_execution_time = time.time() - start_time\n",
        "\n",
        "# Вывод результата\n",
        "print(\"Spark Result:\")\n",
        "for row in result:\n",
        "    print(row)\n",
        "\n",
        "print(f\"Agg Time: {agg_time:.6f} seconds\")\n",
        "print(f\"Transpose Time: {transpose_time:.6f} seconds\")\n",
        "print(f\"Multiplication Time: {multiply_time:.6f} seconds\")\n",
        "print(f\"Total Execution Time: {total_execution_time:.6f} seconds\")\n",
        "\n",
        "# Вывод размеров полученной матрицы\n",
        "print(f\"Product matrix shape: {product_matrix.shape}\")\n",
        "#Объяснение изменений:\n",
        "#Генерация матриц: Созданы две матрицы размером 10000 на 10000 с использованием numpy.\n",
        "#Транспонирование: Мы добавили код для транспонирования первой матрицы и замерили время выполнения этой операции.\n",
        "#Перемножение матриц: Мы используем функцию np.dot() для перемножения транспонированной матрицы с второй матрицей и замеряем время этой операции.\n",
        "#Вывод: Добавили вывод времени выполнения для транспонирования и перемножения, а также размер получившейся матрицы."
      ],
      "metadata": {
        "colab": {
          "base_uri": "https://localhost:8080/",
          "height": 383
        },
        "id": "EnrEZLnYDMBy",
        "outputId": "db0decf5-f581-4008-80a9-4c854b4448e3"
      },
      "execution_count": 6,
      "outputs": [
        {
          "output_type": "error",
          "ename": "ModuleNotFoundError",
          "evalue": "No module named 'pyspark'",
          "traceback": [
            "\u001b[0;31m---------------------------------------------------------------------------\u001b[0m",
            "\u001b[0;31mModuleNotFoundError\u001b[0m                       Traceback (most recent call last)",
            "\u001b[0;32m<ipython-input-6-de0c81848585>\u001b[0m in \u001b[0;36m<cell line: 1>\u001b[0;34m()\u001b[0m\n\u001b[0;32m----> 1\u001b[0;31m \u001b[0;32mfrom\u001b[0m \u001b[0mpyspark\u001b[0m\u001b[0;34m.\u001b[0m\u001b[0msql\u001b[0m \u001b[0;32mimport\u001b[0m \u001b[0mSparkSession\u001b[0m\u001b[0;34m\u001b[0m\u001b[0;34m\u001b[0m\u001b[0m\n\u001b[0m\u001b[1;32m      2\u001b[0m \u001b[0;32mimport\u001b[0m \u001b[0mtime\u001b[0m\u001b[0;34m\u001b[0m\u001b[0;34m\u001b[0m\u001b[0m\n\u001b[1;32m      3\u001b[0m \u001b[0;34m\u001b[0m\u001b[0m\n\u001b[1;32m      4\u001b[0m \u001b[0;31m# Инициализация SparkSession\u001b[0m\u001b[0;34m\u001b[0m\u001b[0;34m\u001b[0m\u001b[0m\n\u001b[1;32m      5\u001b[0m \u001b[0;31m#spark = SparkSession.builder.appName(\"SparkApp\").getOrCreate()\u001b[0m\u001b[0;34m\u001b[0m\u001b[0;34m\u001b[0m\u001b[0m\n",
            "\u001b[0;31mModuleNotFoundError\u001b[0m: No module named 'pyspark'",
            "",
            "\u001b[0;31m---------------------------------------------------------------------------\u001b[0;32m\nNOTE: If your import is failing due to a missing package, you can\nmanually install dependencies using either !pip or !apt.\n\nTo view examples of installing some common dependencies, click the\n\"Open Examples\" button below.\n\u001b[0;31m---------------------------------------------------------------------------\u001b[0m\n"
          ],
          "errorDetails": {
            "actions": [
              {
                "action": "open_url",
                "actionText": "Open Examples",
                "url": "/notebooks/snippets/importing_libraries.ipynb"
              }
            ]
          }
        }
      ]
    },
    {
      "cell_type": "code",
      "source": [],
      "metadata": {
        "id": "Iy3QHQR0_6ZB"
      },
      "execution_count": null,
      "outputs": []
    }
  ]
}