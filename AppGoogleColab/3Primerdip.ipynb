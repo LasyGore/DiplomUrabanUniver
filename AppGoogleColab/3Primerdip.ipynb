{
  "nbformat": 4,
  "nbformat_minor": 0,
  "metadata": {
    "colab": {
      "provenance": []
    },
    "kernelspec": {
      "name": "python3",
      "display_name": "Python 3"
    },
    "language_info": {
      "name": "python"
    }
  },
  "cells": [
    {
      "cell_type": "code",
      "execution_count": null,
      "metadata": {
        "id": "jIBEva6M_CHx"
      },
      "outputs": [],
      "source": []
    },
    {
      "cell_type": "code",
      "source": [
        "import random\n",
        "import time\n",
        "\n",
        "\n",
        "# Генерация матрицы 1000 на 1000 с случайными действительными числами\n",
        "def generate_matrix(size):\n",
        "    return [[random.uniform(10, 100) for _ in range(size)] for _ in range(size)]\n",
        "\n",
        "\n",
        "# Перемножение двух матриц\n",
        "def multiply_matrices(matrix_a, matrix_b):\n",
        "    size = len(matrix_a)\n",
        "    result = [[0.0 for _ in range(size)] for _ in range(size)]\n",
        "\n",
        "    for i in range(size):\n",
        "        for j in range(size):\n",
        "            element_sum = 0.0\n",
        "            for k in range(size):\n",
        "                element_sum += matrix_a[i][k] * matrix_b[k][j]\n",
        "            result[i][j] = element_sum\n",
        "\n",
        "    return result\n",
        "\n",
        "\n",
        "# Основная программа\n",
        "if __name__ == \"__main__\":\n",
        "    size = 1000\n",
        "\n",
        "    # Генерация двух матриц\n",
        "    matrix_a = generate_matrix(size)\n",
        "    matrix_b = generate_matrix(size)\n",
        "\n",
        "    # Измерение времени выполнения операции перемножения\n",
        "    start_time = time.time()\n",
        "    result_matrix = multiply_matrices(matrix_a, matrix_b)\n",
        "    end_time = time.time()\n",
        "\n",
        "    # Печать результата\n",
        "    print(f\"Время выполнения операции умножения матриц: {end_time - start_time:.4f} секунд\")"
      ],
      "metadata": {
        "id": "EnrEZLnYDMBy"
      },
      "execution_count": null,
      "outputs": []
    },
    {
      "cell_type": "code",
      "source": [],
      "metadata": {
        "id": "Iy3QHQR0_6ZB"
      },
      "execution_count": null,
      "outputs": []
    }
  ]
}